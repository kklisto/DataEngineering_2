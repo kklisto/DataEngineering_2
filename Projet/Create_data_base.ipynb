{
 "cells": [
  {
   "cell_type": "code",
   "execution_count": 5,
   "id": "c29152a9",
   "metadata": {},
   "outputs": [],
   "source": [
    "from kafka import KafkaProducer\n",
    "import csv\n",
    "from datetime import datetime\n",
    "from uuid import uuid4\n",
    "from cassandra.cluster import Cluster\n",
    "\n",
    "# Initialisez votre client Kafka\n",
    "producer = KafkaProducer(bootstrap_servers='localhost:9092')\n",
    "\n",
    "# connect to Cassandra\n",
    "cluster = Cluster(['localhost'])\n",
    "session = cluster.connect()\n",
    "\n",
    "# create keyspace and table\n",
    "session.execute(\"CREATE KEYSPACE IF NOT EXISTS rss_data WITH replication = {'class': 'SimpleStrategy', 'replication_factor': '1'} AND durable_writes = true;\")\n",
    "session.set_keyspace('rss_data')\n",
    "session.execute(\"CREATE TABLE IF NOT EXISTS lemonde_data (id uuid PRIMARY KEY, title text, link text, pubdate timestamp, description text);\")\n",
    "\n",
    "# prepare insert statement\n",
    "prepared = session.prepare(\"INSERT INTO lemonde_data (id, title, link, pubdate, description) VALUES (?, ?, ?, ?, ?)\")\n",
    "\n",
    "# read data from CSV and insert into table\n",
    "with open('lemonde_rss.csv', newline='') as csvfile:\n",
    "    reader = csv.reader(csvfile, delimiter=',', quotechar='\"')\n",
    "    for row in reader:\n",
    "        if row[0] == 'title':  # skip the header row\n",
    "            continue\n",
    "        id = uuid4()\n",
    "        title = row[0]\n",
    "        link = row[8]\n",
    "        pubdate = datetime.strptime(row[2], '%a, %d %b %Y %H:%M:%S %z')\n",
    "        description = row[4]\n",
    "        session.execute(prepared, (id, title, link, pubdate, description))\n"
   ]
  },
  {
   "cell_type": "raw",
   "id": "53cc0551",
   "metadata": {},
   "source": [
    "# Run a query\n",
    "rows = session.execute('SELECT * FROM lemonde_data')\n",
    "for row in rows : \n",
    "    print(row.title)\n",
    "    print(row.link)\n",
    "    print(\"\\n\")"
   ]
  },
  {
   "cell_type": "code",
   "execution_count": 7,
   "id": "a8550541",
   "metadata": {},
   "outputs": [],
   "source": [
    "#delete données\n",
    "#session.execute('TRUNCATE lemonde_data')"
   ]
  },
  {
   "cell_type": "code",
   "execution_count": null,
   "id": "25d22639",
   "metadata": {},
   "outputs": [],
   "source": []
  }
 ],
 "metadata": {
  "kernelspec": {
   "display_name": "Python 3 (ipykernel)",
   "language": "python",
   "name": "python3"
  },
  "language_info": {
   "codemirror_mode": {
    "name": "ipython",
    "version": 3
   },
   "file_extension": ".py",
   "mimetype": "text/x-python",
   "name": "python",
   "nbconvert_exporter": "python",
   "pygments_lexer": "ipython3",
   "version": "3.9.13"
  }
 },
 "nbformat": 4,
 "nbformat_minor": 5
}
